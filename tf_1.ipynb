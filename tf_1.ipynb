{
  "nbformat": 4,
  "nbformat_minor": 0,
  "metadata": {
    "colab": {
      "name": "Untitled2.ipynb",
      "provenance": []
    },
    "kernelspec": {
      "name": "python3",
      "display_name": "Python 3"
    },
    "language_info": {
      "name": "python"
    }
  },
  "cells": [
    {
      "cell_type": "markdown",
      "source": [
        "Importar tensorFlow"
      ],
      "metadata": {
        "id": "WTNnz7j07dVy"
      }
    },
    {
      "cell_type": "code",
      "execution_count": 19,
      "metadata": {
        "colab": {
          "base_uri": "https://localhost:8080/"
        },
        "id": "VY4OAJ9o5hvZ",
        "outputId": "1d764e4a-a243-46ed-e697-a992e487b9aa"
      },
      "outputs": [
        {
          "output_type": "stream",
          "name": "stdout",
          "text": [
            "TensorFlow version: 2.8.0\n"
          ]
        }
      ],
      "source": [
        "import tensorflow as tf\n",
        "print(\"TensorFlow version:\", tf.__version__)"
      ]
    },
    {
      "cell_type": "markdown",
      "source": [
        "Cargar dataset-->mnist"
      ],
      "metadata": {
        "id": "-sc83TSR7hLK"
      }
    },
    {
      "cell_type": "code",
      "source": [
        "mnist = tf.keras.datasets.mnist\n",
        "\n",
        "(x_train, y_train), (x_test, y_test) = mnist.load_data()\n",
        "x_train, x_test = x_train / 255.0, x_test / 255.0"
      ],
      "metadata": {
        "id": "f5OgTu4B6cvd"
      },
      "execution_count": 20,
      "outputs": []
    },
    {
      "cell_type": "markdown",
      "source": [
        "Crear un modelo de machine learning\n",
        "crear un tf.keras.Sequential apilando capas:"
      ],
      "metadata": {
        "id": "F0qD5A4i7lkK"
      }
    },
    {
      "cell_type": "code",
      "source": [
        "model = tf.keras.models.Sequential([\n",
        "  tf.keras.layers.Flatten(input_shape=(28, 28)),\n",
        "  tf.keras.layers.Dense(128, activation='relu'),\n",
        "  tf.keras.layers.Dropout(0.2),\n",
        "  tf.keras.layers.Dense(10)\n",
        "])"
      ],
      "metadata": {
        "id": "T1Eh8l557MnL"
      },
      "execution_count": 21,
      "outputs": []
    },
    {
      "cell_type": "markdown",
      "source": [
        "Por ejemplo, el modelo devuelve un vector de logits o log-odds scores, para cada clase."
      ],
      "metadata": {
        "id": "CXFefKyx8u_R"
      }
    },
    {
      "cell_type": "code",
      "source": [
        "predictions = model(x_train[:1]).numpy()\n",
        "predictions"
      ],
      "metadata": {
        "colab": {
          "base_uri": "https://localhost:8080/"
        },
        "id": "WRNafQi-85cw",
        "outputId": "50896839-f118-4fcf-aac6-444396ba89b2"
      },
      "execution_count": 22,
      "outputs": [
        {
          "output_type": "execute_result",
          "data": {
            "text/plain": [
              "array([[ 0.01852623, -0.7050208 , -0.22586891, -0.64592993, -0.28346527,\n",
              "        -0.16747312,  0.3761456 , -0.12999766,  0.00779954,  0.45522398]],\n",
              "      dtype=float32)"
            ]
          },
          "metadata": {},
          "execution_count": 22
        }
      ]
    },
    {
      "cell_type": "markdown",
      "source": [
        "tf.nn.softmax --> convierte los logits a probabilidad"
      ],
      "metadata": {
        "id": "Vj4Ng5Og9WwZ"
      }
    },
    {
      "cell_type": "code",
      "source": [
        "tf.nn.softmax(predictions).numpy()"
      ],
      "metadata": {
        "colab": {
          "base_uri": "https://localhost:8080/"
        },
        "id": "BSBWG7xu9dcH",
        "outputId": "00f63bce-db7e-431b-c740-24c618e2e2b9"
      },
      "execution_count": 23,
      "outputs": [
        {
          "output_type": "execute_result",
          "data": {
            "text/plain": [
              "array([[0.10891825, 0.05282849, 0.08530239, 0.05604424, 0.08052809,\n",
              "        0.090432  , 0.15574451, 0.09388529, 0.10775615, 0.1685606 ]],\n",
              "      dtype=float32)"
            ]
          },
          "metadata": {},
          "execution_count": 23
        }
      ]
    },
    {
      "cell_type": "markdown",
      "source": [
        "definir funcion de perdidas-->devuelve un escalar"
      ],
      "metadata": {
        "id": "pc_TumF__sGS"
      }
    },
    {
      "cell_type": "code",
      "source": [
        "loss_fn = tf.keras.losses.SparseCategoricalCrossentropy(from_logits=True)"
      ],
      "metadata": {
        "id": "wDPBut8z_zaR"
      },
      "execution_count": 24,
      "outputs": []
    },
    {
      "cell_type": "markdown",
      "source": [
        "la perdida es igual to the negative log probability de la clase true; la perdida es 0 si el modelo asegura la clase correcta."
      ],
      "metadata": {
        "id": "DuIIKNlqBm3V"
      }
    },
    {
      "cell_type": "code",
      "source": [
        "loss_fn(y_train[:1], predictions).numpy()"
      ],
      "metadata": {
        "colab": {
          "base_uri": "https://localhost:8080/"
        },
        "id": "9N6awiEbCAOF",
        "outputId": "194327e9-0768-401f-cd4a-fb6ba729cc9e"
      },
      "execution_count": 25,
      "outputs": [
        {
          "output_type": "execute_result",
          "data": {
            "text/plain": [
              "2.4031572"
            ]
          },
          "metadata": {},
          "execution_count": 25
        }
      ]
    },
    {
      "cell_type": "markdown",
      "source": [
        "antes de empezar, se tiene que configurar y compilar el modelo usando Keras model.compile"
      ],
      "metadata": {
        "id": "uFAXCjNNCPH7"
      }
    },
    {
      "cell_type": "code",
      "source": [
        "model.compile(optimizer='adam',\n",
        "              loss=loss_fn,\n",
        "              metrics=['accuracy'])"
      ],
      "metadata": {
        "id": "aGIVcD8bCaer"
      },
      "execution_count": 26,
      "outputs": []
    },
    {
      "cell_type": "markdown",
      "source": [
        "Entrenar y evaluar el modelo;\n",
        "usar el metodo model.fit para ajustar los parametros del modelo y minimizar las perdidas. "
      ],
      "metadata": {
        "id": "L2AK6gL0CqR6"
      }
    },
    {
      "cell_type": "code",
      "source": [
        "model.fit(x_train, y_train, epochs=5)"
      ],
      "metadata": {
        "colab": {
          "base_uri": "https://localhost:8080/"
        },
        "id": "xVow7eeOC2Vg",
        "outputId": "bae0963e-5807-4531-ef21-0e9fb05fa59b"
      },
      "execution_count": 27,
      "outputs": [
        {
          "output_type": "stream",
          "name": "stdout",
          "text": [
            "Epoch 1/5\n",
            "1875/1875 [==============================] - 7s 3ms/step - loss: 0.2969 - accuracy: 0.9142\n",
            "Epoch 2/5\n",
            "1875/1875 [==============================] - 5s 3ms/step - loss: 0.1430 - accuracy: 0.9579\n",
            "Epoch 3/5\n",
            "1875/1875 [==============================] - 5s 3ms/step - loss: 0.1066 - accuracy: 0.9682\n",
            "Epoch 4/5\n",
            "1875/1875 [==============================] - 5s 3ms/step - loss: 0.0885 - accuracy: 0.9723\n",
            "Epoch 5/5\n",
            "1875/1875 [==============================] - 5s 3ms/step - loss: 0.0743 - accuracy: 0.9761\n"
          ]
        },
        {
          "output_type": "execute_result",
          "data": {
            "text/plain": [
              "<keras.callbacks.History at 0x7f799d252210>"
            ]
          },
          "metadata": {},
          "execution_count": 27
        }
      ]
    },
    {
      "cell_type": "markdown",
      "source": [
        "model.evaluate evalua el rendimiento del modelo, normalmente en un set de validacion o test."
      ],
      "metadata": {
        "id": "n-UzBBZ2FBAR"
      }
    },
    {
      "cell_type": "code",
      "source": [
        "model.evaluate(x_test ,y_test, verbose=2)"
      ],
      "metadata": {
        "colab": {
          "base_uri": "https://localhost:8080/"
        },
        "id": "Vsh3NCQzFJlw",
        "outputId": "64e51323-de04-4a5f-e66a-76b7278b9915"
      },
      "execution_count": 28,
      "outputs": [
        {
          "output_type": "stream",
          "name": "stdout",
          "text": [
            "313/313 - 1s - loss: 0.0740 - accuracy: 0.9781 - 896ms/epoch - 3ms/step\n"
          ]
        },
        {
          "output_type": "execute_result",
          "data": {
            "text/plain": [
              "[0.07402949780225754, 0.9781000018119812]"
            ]
          },
          "metadata": {},
          "execution_count": 28
        }
      ]
    },
    {
      "cell_type": "markdown",
      "source": [
        "El clasificador de imagenes esta estrenado al 97% de precision en el dataset mnist.\n",
        "\n",
        "Si queremos que el modelo devuelva la probabilidad, podemos adjuntar el softmax al modelo entrenado."
      ],
      "metadata": {
        "id": "dX348IGOFbwH"
      }
    },
    {
      "cell_type": "code",
      "source": [
        "probability_model = tf.keras.Sequential([\n",
        "  model,\n",
        "  tf.keras.layers.Softmax()\n",
        "])"
      ],
      "metadata": {
        "id": "jqbgja7RFyFm"
      },
      "execution_count": 33,
      "outputs": []
    },
    {
      "cell_type": "code",
      "source": [
        "probability_model(x_test[:5])"
      ],
      "metadata": {
        "colab": {
          "base_uri": "https://localhost:8080/"
        },
        "id": "PRiuwpi7F-7m",
        "outputId": "98059ce3-054b-416a-b9e1-b3630b3a5f24"
      },
      "execution_count": 34,
      "outputs": [
        {
          "output_type": "execute_result",
          "data": {
            "text/plain": [
              "<tf.Tensor: shape=(5, 10), dtype=float32, numpy=\n",
              "array([[1.04367693e-07, 6.18656282e-09, 3.45002036e-07, 4.96988687e-05,\n",
              "        8.71102426e-11, 2.81038382e-07, 4.12331437e-14, 9.99946952e-01,\n",
              "        4.28448971e-07, 2.14739339e-06],\n",
              "       [5.61523361e-09, 1.28156884e-04, 9.99869466e-01, 1.86198292e-06,\n",
              "        5.33243578e-15, 1.80456922e-07, 6.23468477e-09, 5.93992222e-14,\n",
              "        3.33421838e-07, 2.94110270e-14],\n",
              "       [8.26340880e-08, 9.99437511e-01, 1.35295850e-04, 9.94602851e-06,\n",
              "        7.54924549e-05, 1.20303348e-05, 1.46084403e-05, 2.12840707e-04,\n",
              "        1.01058606e-04, 1.09801795e-06],\n",
              "       [9.99929190e-01, 4.45198239e-10, 1.08620952e-05, 7.73524960e-07,\n",
              "        1.15163482e-06, 2.77885647e-07, 1.24685153e-06, 1.43382329e-06,\n",
              "        7.96336792e-07, 5.41693698e-05],\n",
              "       [3.04531000e-07, 2.04165504e-10, 1.40058739e-06, 9.88556526e-09,\n",
              "        9.98476923e-01, 7.16140107e-08, 1.06752043e-06, 7.19878790e-06,\n",
              "        8.31282705e-07, 1.51216937e-03]], dtype=float32)>"
            ]
          },
          "metadata": {},
          "execution_count": 34
        }
      ]
    },
    {
      "cell_type": "markdown",
      "source": [
        "Conclusion\n",
        "\n",
        "se ha entrenado un dataset usando la API de keras."
      ],
      "metadata": {
        "id": "wbxZOM6EGQ0e"
      }
    }
  ]
}